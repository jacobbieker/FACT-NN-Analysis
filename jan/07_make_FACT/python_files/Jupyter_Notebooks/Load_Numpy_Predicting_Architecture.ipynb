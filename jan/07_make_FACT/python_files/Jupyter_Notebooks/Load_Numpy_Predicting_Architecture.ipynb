{
 "cells": [
  {
   "cell_type": "code",
   "execution_count": 1,
   "metadata": {
    "collapsed": true
   },
   "outputs": [],
   "source": [
    "import tensorflow as tf\n",
    "import pandas as pd\n",
    "import numpy as np\n",
    "import pickle\n",
    "import h5py\n",
    "import os"
   ]
  },
  {
   "cell_type": "code",
   "execution_count": 2,
   "metadata": {},
   "outputs": [
    {
     "name": "stdout",
     "output_type": "stream",
     "text": [
      "Loading-File: Pickle_0.7936380906031371.p\n"
     ]
    }
   ],
   "source": [
    "batch_size = 10000\n",
    "prediction_save_path = '/fhgfs/users/jbehnken/make_Data/crab1314_prediction.csv'\n",
    "\n",
    "path = '/fhgfs/users/jbehnken/crap/'\n",
    "file = sorted(os.listdir(path))[-1]\n",
    "path_loading = os.path.join(path, file)\n",
    "print('Loading-File:', file)\n",
    "\n",
    "load_weights, load_biases = pickle.load(open(path_loading, 'rb'))"
   ]
  },
  {
   "cell_type": "code",
   "execution_count": 3,
   "metadata": {
    "collapsed": true
   },
   "outputs": [],
   "source": [
    "def batchYielder():\n",
    "    with h5py.File('/fhgfs/users/jbehnken/01_Data/02_Crab_Prediction/Crab1314_Images.h5', 'r') as hdf:\n",
    "        items = list(hdf.items())[0][1].shape[0]\n",
    "        i = 0\n",
    "\n",
    "        while (i+1)*batch_size < items/20: # 160 factor to not process everything\n",
    "            night = np.array(hdf['Night'][ i*batch_size:(i+1)*batch_size ])\n",
    "            run = np.array(hdf['Run'][ i*batch_size:(i+1)*batch_size ])\n",
    "            event = np.array(hdf['Event'][ i*batch_size:(i+1)*batch_size ])\n",
    "            images = np.array(hdf['Image'][ i*batch_size:(i+1)*batch_size ])\n",
    "\n",
    "            i += 1\n",
    "            print(i)\n",
    "            yield (night, run, event, images)"
   ]
  },
  {
   "cell_type": "code",
   "execution_count": 4,
   "metadata": {
    "scrolled": true
   },
   "outputs": [
    {
     "name": "stdout",
     "output_type": "stream",
     "text": [
      "1\n",
      "2\n",
      "3\n",
      "4\n",
      "5\n",
      "6\n",
      "7\n",
      "8\n",
      "9\n",
      "10\n",
      "11\n",
      "12\n",
      "13\n",
      "14\n",
      "15\n",
      "16\n",
      "17\n",
      "18\n",
      "19\n",
      "20\n",
      "21\n",
      "22\n",
      "23\n",
      "24\n",
      "25\n",
      "26\n",
      "27\n",
      "28\n",
      "29\n",
      "30\n",
      "31\n",
      "32\n",
      "33\n",
      "34\n",
      "35\n",
      "36\n",
      "37\n",
      "38\n",
      "39\n",
      "40\n",
      "41\n",
      "42\n",
      "43\n",
      "44\n",
      "45\n",
      "46\n",
      "47\n",
      "48\n",
      "49\n",
      "50\n",
      "51\n",
      "52\n",
      "53\n",
      "54\n",
      "55\n",
      "56\n",
      "57\n",
      "58\n",
      "59\n",
      "60\n",
      "61\n",
      "62\n",
      "63\n",
      "64\n",
      "65\n",
      "66\n",
      "67\n",
      "68\n",
      "69\n",
      "70\n",
      "71\n",
      "72\n",
      "73\n",
      "74\n",
      "75\n",
      "76\n",
      "77\n",
      "78\n",
      "79\n",
      "80\n",
      "81\n",
      "82\n",
      "83\n",
      "84\n",
      "85\n",
      "86\n",
      "87\n",
      "88\n",
      "89\n",
      "90\n",
      "91\n",
      "92\n",
      "93\n",
      "94\n",
      "95\n",
      "96\n",
      "97\n",
      "98\n",
      "99\n",
      "100\n",
      "101\n",
      "102\n"
     ]
    }
   ],
   "source": [
    "gpu_config = tf.GPUOptions(allow_growth=True, per_process_gpu_memory_fraction=0.4)\n",
    "session_conf = tf.ConfigProto(gpu_options=gpu_config, intra_op_parallelism_threads=18, inter_op_parallelism_threads=18)\n",
    "\n",
    "\n",
    "with tf.Session(config=session_conf) as sess:\n",
    "    graph = tf.get_default_graph()\n",
    "    \n",
    "    \n",
    "    init_w_1 = tf.constant(load_weights[0])\n",
    "    conv2d_1_weights = tf.get_variable('W_1', initializer=init_w_1)\n",
    "    init_b_1 = tf.constant(load_biases[0])\n",
    "    conv2d_1_biases = tf.get_variable('B_1', initializer=init_b_1)\n",
    "    \n",
    "    init_w_2 = tf.constant(load_weights[1])\n",
    "    conv2d_2_weights = tf.get_variable('W_2', initializer=init_w_2)\n",
    "    init_b_2 = tf.constant(load_biases[1])\n",
    "    conv2d_2_biases = tf.get_variable('B_2', initializer=init_b_2)\n",
    "    \n",
    "    init_w_3 = tf.constant(load_weights[2])\n",
    "    conv2d_3_weights = tf.get_variable('W_3', initializer=init_w_3)\n",
    "    init_b_3 = tf.constant(load_biases[2])\n",
    "    conv2d_3_biases = tf.get_variable('B_3', initializer=init_b_3)\n",
    "    \n",
    "    init_w_4 = tf.constant(load_weights[3])\n",
    "    conv2d_4_weights = tf.get_variable('W_4', initializer=init_w_4)\n",
    "    init_b_4 = tf.constant(load_biases[3])\n",
    "    conv2d_4_biases = tf.get_variable('B_4', initializer=init_b_4)\n",
    "    \n",
    "    init_w_5 = tf.constant(load_weights[4])\n",
    "    conv2d_5_weights = tf.get_variable('W_5', initializer=init_w_5)\n",
    "    init_b_5 = tf.constant(load_biases[4])\n",
    "    conv2d_5_biases = tf.get_variable('B_5', initializer=init_b_5)\n",
    "    \n",
    "    init_w_6 = tf.constant(load_weights[5])\n",
    "    conv2d_6_weights = tf.get_variable('W_6', initializer=init_w_6)\n",
    "    init_b_6 = tf.constant(load_biases[5])\n",
    "    conv2d_6_biases = tf.get_variable('B_6', initializer=init_b_6)\n",
    "    \n",
    "    init_w_7 = tf.constant(load_weights[6])\n",
    "    fc_1_weights = tf.get_variable('W_7', initializer=init_w_7)\n",
    "    init_b_7 = tf.constant(load_biases[6])\n",
    "    fc_1_biases = tf.get_variable('B_7', initializer=init_b_7)\n",
    "    \n",
    "    init_w_8 = tf.constant(load_weights[7])\n",
    "    fc_2_weights = tf.get_variable('W_8', initializer=init_w_8)\n",
    "    init_b_8 = tf.constant(load_biases[7])\n",
    "    fc_2_biases = tf.get_variable('B_8', initializer=init_b_8)\n",
    "    \n",
    "    init_w_9 = tf.constant(load_weights[8])\n",
    "    fc_3_weights = tf.get_variable('W_9', initializer=init_w_9)\n",
    "    init_b_9 = tf.constant(load_biases[8])\n",
    "    fc_3_biases = tf.get_variable('B_9', initializer=init_b_9)\n",
    "    \n",
    "    init_w_10 = tf.constant(load_weights[9])\n",
    "    fc_4_weights = tf.get_variable('W_10', initializer=init_w_10)\n",
    "    init_b_10 = tf.constant(load_biases[9])\n",
    "    fc_4_biases = tf.get_variable('B_10', initializer=init_b_10)\n",
    "    \n",
    "    \n",
    "    #tf_prediction_dataset = tf.constant(images, name='prediction_data')\n",
    "    tf_prediction_dataset = tf.placeholder(tf.float32, shape=(batch_size, 46, 45, 1), name='training_data')        \n",
    "    sess.run(tf.global_variables_initializer())\n",
    "    \n",
    "\n",
    "    nights = []\n",
    "    runs = []\n",
    "    events = []\n",
    "    preds_1 = []\n",
    "    preds_2 = []\n",
    "    \n",
    "    \n",
    "    for batch in batchYielder():\n",
    "        night, run, event, images = batch\n",
    "        feed_dict = {tf_prediction_dataset : images}\n",
    "        \n",
    "        with tf.name_scope('prediction_ccccccffff'):\n",
    "            pool_1 = tf.nn.max_pool(tf.nn.relu(tf.nn.conv2d(tf_prediction_dataset, conv2d_1_weights, [1, 1, 1, 1], padding='SAME') + conv2d_1_biases), ksize=[1, 2, 2, 1], strides=[1, 2, 2, 1], padding='SAME')\n",
    "            pool_2 = tf.nn.max_pool(tf.nn.relu(tf.nn.conv2d(pool_1, conv2d_2_weights, [1, 1, 1, 1], padding='SAME')  + conv2d_2_biases), ksize=[1, 2, 2, 1], strides=[1, 2, 2, 1], padding='SAME')\n",
    "            pool_3 = tf.nn.max_pool(tf.nn.relu(tf.nn.conv2d(pool_2, conv2d_3_weights, [1, 1, 1, 1], padding='SAME')  + conv2d_3_biases), ksize=[1, 2, 2, 1], strides=[1, 2, 2, 1], padding='SAME')\n",
    "            pool_4 = tf.nn.max_pool(tf.nn.relu(tf.nn.conv2d(pool_3, conv2d_4_weights, [1, 1, 1, 1], padding='SAME')  + conv2d_4_biases), ksize=[1, 2, 2, 1], strides=[1, 2, 2, 1], padding='SAME')\n",
    "            pool_5 = tf.nn.max_pool(tf.nn.relu(tf.nn.conv2d(pool_4, conv2d_5_weights, [1, 1, 1, 1], padding='SAME')  + conv2d_5_biases), ksize=[1, 2, 2, 1], strides=[1, 2, 2, 1], padding='SAME')\n",
    "            pool_6 = tf.nn.max_pool(tf.nn.relu(tf.nn.conv2d(pool_5, conv2d_6_weights, [1, 1, 1, 1], padding='SAME')  + conv2d_6_biases), ksize=[1, 2, 2, 1], strides=[1, 2, 2, 1], padding='SAME')\n",
    "            shape = pool_6.get_shape().as_list()\n",
    "            reshape = tf.reshape(pool_6, [shape[0], shape[1] * shape[2] * shape[3]])\n",
    "            hidden = tf.nn.relu(tf.matmul(reshape, fc_1_weights) + fc_1_biases)\n",
    "            hidden = tf.nn.relu(tf.matmul(hidden, fc_2_weights) + fc_2_biases)\n",
    "            hidden = tf.nn.relu(tf.matmul(hidden, fc_3_weights) + fc_3_biases)\n",
    "            prediction_ccccccffff = tf.nn.softmax(tf.matmul(hidden, fc_4_weights) + fc_4_biases)\n",
    "        pred = sess.run(prediction_ccccccffff, feed_dict=feed_dict)\n",
    "\n",
    "        nights.extend(night)\n",
    "        runs.extend(run)\n",
    "        events.extend(event)\n",
    "        preds_1.extend(pred[:,0])\n",
    "        preds_2.extend(pred[:,1])"
   ]
  },
  {
   "cell_type": "code",
   "execution_count": 5,
   "metadata": {},
   "outputs": [],
   "source": [
    "data = list(zip(nights, runs, events, preds_1, preds_2))\n",
    "df = pd.DataFrame(data, columns=['Night', 'Run','Event', 'Proton', 'Gamma'])\n",
    "df.to_csv(prediction_save_path, index=False)"
   ]
  },
  {
   "cell_type": "code",
   "execution_count": 6,
   "metadata": {},
   "outputs": [
    {
     "data": {
      "text/plain": [
       "(1020000, 5)"
      ]
     },
     "execution_count": 6,
     "metadata": {},
     "output_type": "execute_result"
    }
   ],
   "source": [
    "df.shape"
   ]
  },
  {
   "cell_type": "code",
   "execution_count": 7,
   "metadata": {},
   "outputs": [
    {
     "data": {
      "text/plain": [
       "1020000"
      ]
     },
     "execution_count": 7,
     "metadata": {},
     "output_type": "execute_result"
    }
   ],
   "source": [
    "len(preds_1)"
   ]
  },
  {
   "cell_type": "code",
   "execution_count": 8,
   "metadata": {},
   "outputs": [
    {
     "data": {
      "image/png": "[encoded data removed]",
      "text/plain": [
       "<matplotlib.figure.Figure at 0x7f159e423d30>"
      ]
     },
     "metadata": {},
     "output_type": "display_data"
    }
   ],
   "source": [
    "import matplotlib.pyplot as plt\n",
    "path_build = '/home/jbehnken/07_make_FACT/build/'\n",
    "\n",
    "plt.style.use('ggplot')\n",
    "df.hist(['Gamma'], bins=100, color=(118/255, 157/255, 6/255), figsize=(5, 3))\n",
    "plt.yscale('log')\n",
    "plt.title('Prediction of real events')\n",
    "plt.xlabel('Gamma ray probability')\n",
    "plt.ylabel('Event count')\n",
    "plt.tight_layout()\n",
    "plt.savefig(path_build+'CNN_Real_Evaluation.pdf')\n",
    "plt.show()"
   ]
  },
  {
   "cell_type": "code",
   "execution_count": null,
   "metadata": {
    "collapsed": true
   },
   "outputs": [],
   "source": []
  }
 ],
 "metadata": {
  "kernelspec": {
   "display_name": "Python [default]",
   "language": "python",
   "name": "python3"
  },
  "language_info": {
   "codemirror_mode": {
    "name": "ipython",
    "version": 3
   },
   "file_extension": ".py",
   "mimetype": "text/x-python",
   "name": "python",
   "nbconvert_exporter": "python",
   "pygments_lexer": "ipython3",
   "version": "3.5.3"
  }
 },
 "nbformat": 4,
 "nbformat_minor": 2
}
